{
 "cells": [
  {
   "cell_type": "code",
   "execution_count": 1,
   "id": "dcbe70bb",
   "metadata": {
    "papermill": {
     "duration": 2.34769,
     "end_time": "2024-07-07T14:44:54.007607",
     "exception": false,
     "start_time": "2024-07-07T14:44:51.659917",
     "status": "completed"
    },
    "tags": []
   },
   "outputs": [],
   "source": [
    "import pandas as pd\n",
    "import seaborn as sns\n",
    "import matplotlib.pyplot as plt\n",
    "from sklearn.preprocessing import LabelEncoder\n",
    "from sklearn.model_selection import train_test_split\n",
    "from sklearn.ensemble import RandomForestClassifier\n",
    "from sklearn.metrics import classification_report, confusion_matrix, roc_curve,roc_auc_score"
   ]
  },
  {
   "cell_type": "markdown",
   "id": "a7406d0c",
   "metadata": {
    "papermill": {
     "duration": 0.010892,
     "end_time": "2024-07-07T14:44:54.030228",
     "exception": false,
     "start_time": "2024-07-07T14:44:54.019336",
     "status": "completed"
    },
    "tags": []
   },
   "source": [
    "# Data Retrieval and Understanding"
   ]
  },
  {
   "cell_type": "code",
   "execution_count": 2,
   "id": "46f66a6e",
   "metadata": {
    "papermill": {
     "duration": 18.708872,
     "end_time": "2024-07-07T14:45:12.750071",
     "exception": false,
     "start_time": "2024-07-07T14:44:54.041199",
     "status": "completed"
    },
    "tags": []
   },
   "outputs": [],
   "source": [
    "df=pd.read_csv('D:/AI/Depi/graduation project/fraud_detection.csv')"
   ]
  },
  {
   "cell_type": "code",
   "execution_count": 3,
   "id": "8fd6c921",
   "metadata": {
    "papermill": {
     "duration": 0.040824,
     "end_time": "2024-07-07T14:45:12.802539",
     "exception": false,
     "start_time": "2024-07-07T14:45:12.761715",
     "status": "completed"
    },
    "tags": []
   },
   "outputs": [
    {
     "data": {
      "text/html": [
       "<div>\n",
       "<style scoped>\n",
       "    .dataframe tbody tr th:only-of-type {\n",
       "        vertical-align: middle;\n",
       "    }\n",
       "\n",
       "    .dataframe tbody tr th {\n",
       "        vertical-align: top;\n",
       "    }\n",
       "\n",
       "    .dataframe thead th {\n",
       "        text-align: right;\n",
       "    }\n",
       "</style>\n",
       "<table border=\"1\" class=\"dataframe\">\n",
       "  <thead>\n",
       "    <tr style=\"text-align: right;\">\n",
       "      <th></th>\n",
       "      <th>step</th>\n",
       "      <th>type</th>\n",
       "      <th>amount</th>\n",
       "      <th>nameOrig</th>\n",
       "      <th>oldbalanceOrg</th>\n",
       "      <th>newbalanceOrig</th>\n",
       "      <th>nameDest</th>\n",
       "      <th>oldbalanceDest</th>\n",
       "      <th>newbalanceDest</th>\n",
       "      <th>isFraud</th>\n",
       "      <th>isFlaggedFraud</th>\n",
       "    </tr>\n",
       "  </thead>\n",
       "  <tbody>\n",
       "    <tr>\n",
       "      <th>0</th>\n",
       "      <td>1</td>\n",
       "      <td>PAYMENT</td>\n",
       "      <td>9839.64</td>\n",
       "      <td>C1231006815</td>\n",
       "      <td>170136.0</td>\n",
       "      <td>160296.36</td>\n",
       "      <td>M1979787155</td>\n",
       "      <td>0.0</td>\n",
       "      <td>0.0</td>\n",
       "      <td>0</td>\n",
       "      <td>0</td>\n",
       "    </tr>\n",
       "    <tr>\n",
       "      <th>1</th>\n",
       "      <td>1</td>\n",
       "      <td>PAYMENT</td>\n",
       "      <td>1864.28</td>\n",
       "      <td>C1666544295</td>\n",
       "      <td>21249.0</td>\n",
       "      <td>19384.72</td>\n",
       "      <td>M2044282225</td>\n",
       "      <td>0.0</td>\n",
       "      <td>0.0</td>\n",
       "      <td>0</td>\n",
       "      <td>0</td>\n",
       "    </tr>\n",
       "    <tr>\n",
       "      <th>2</th>\n",
       "      <td>1</td>\n",
       "      <td>TRANSFER</td>\n",
       "      <td>181.00</td>\n",
       "      <td>C1305486145</td>\n",
       "      <td>181.0</td>\n",
       "      <td>0.00</td>\n",
       "      <td>C553264065</td>\n",
       "      <td>0.0</td>\n",
       "      <td>0.0</td>\n",
       "      <td>1</td>\n",
       "      <td>0</td>\n",
       "    </tr>\n",
       "    <tr>\n",
       "      <th>3</th>\n",
       "      <td>1</td>\n",
       "      <td>CASH_OUT</td>\n",
       "      <td>181.00</td>\n",
       "      <td>C840083671</td>\n",
       "      <td>181.0</td>\n",
       "      <td>0.00</td>\n",
       "      <td>C38997010</td>\n",
       "      <td>21182.0</td>\n",
       "      <td>0.0</td>\n",
       "      <td>1</td>\n",
       "      <td>0</td>\n",
       "    </tr>\n",
       "    <tr>\n",
       "      <th>4</th>\n",
       "      <td>1</td>\n",
       "      <td>PAYMENT</td>\n",
       "      <td>11668.14</td>\n",
       "      <td>C2048537720</td>\n",
       "      <td>41554.0</td>\n",
       "      <td>29885.86</td>\n",
       "      <td>M1230701703</td>\n",
       "      <td>0.0</td>\n",
       "      <td>0.0</td>\n",
       "      <td>0</td>\n",
       "      <td>0</td>\n",
       "    </tr>\n",
       "  </tbody>\n",
       "</table>\n",
       "</div>"
      ],
      "text/plain": [
       "   step      type    amount     nameOrig  oldbalanceOrg  newbalanceOrig  \\\n",
       "0     1   PAYMENT   9839.64  C1231006815       170136.0       160296.36   \n",
       "1     1   PAYMENT   1864.28  C1666544295        21249.0        19384.72   \n",
       "2     1  TRANSFER    181.00  C1305486145          181.0            0.00   \n",
       "3     1  CASH_OUT    181.00   C840083671          181.0            0.00   \n",
       "4     1   PAYMENT  11668.14  C2048537720        41554.0        29885.86   \n",
       "\n",
       "      nameDest  oldbalanceDest  newbalanceDest  isFraud  isFlaggedFraud  \n",
       "0  M1979787155             0.0             0.0        0               0  \n",
       "1  M2044282225             0.0             0.0        0               0  \n",
       "2   C553264065             0.0             0.0        1               0  \n",
       "3    C38997010         21182.0             0.0        1               0  \n",
       "4  M1230701703             0.0             0.0        0               0  "
      ]
     },
     "execution_count": 3,
     "metadata": {},
     "output_type": "execute_result"
    }
   ],
   "source": [
    "df.head()"
   ]
  },
  {
   "cell_type": "code",
   "execution_count": 4,
   "id": "6551ca68",
   "metadata": {
    "papermill": {
     "duration": 0.03635,
     "end_time": "2024-07-07T14:45:12.850524",
     "exception": false,
     "start_time": "2024-07-07T14:45:12.814174",
     "status": "completed"
    },
    "tags": []
   },
   "outputs": [
    {
     "name": "stdout",
     "output_type": "stream",
     "text": [
      "<class 'pandas.core.frame.DataFrame'>\n",
      "RangeIndex: 6362620 entries, 0 to 6362619\n",
      "Data columns (total 11 columns):\n",
      " #   Column          Dtype  \n",
      "---  ------          -----  \n",
      " 0   step            int64  \n",
      " 1   type            object \n",
      " 2   amount          float64\n",
      " 3   nameOrig        object \n",
      " 4   oldbalanceOrg   float64\n",
      " 5   newbalanceOrig  float64\n",
      " 6   nameDest        object \n",
      " 7   oldbalanceDest  float64\n",
      " 8   newbalanceDest  float64\n",
      " 9   isFraud         int64  \n",
      " 10  isFlaggedFraud  int64  \n",
      "dtypes: float64(5), int64(3), object(3)\n",
      "memory usage: 534.0+ MB\n"
     ]
    }
   ],
   "source": [
    "df.info()"
   ]
  },
  {
   "cell_type": "code",
   "execution_count": 5,
   "id": "4f07e462",
   "metadata": {
    "papermill": {
     "duration": 1.805692,
     "end_time": "2024-07-07T14:45:14.667682",
     "exception": false,
     "start_time": "2024-07-07T14:45:12.861990",
     "status": "completed"
    },
    "tags": []
   },
   "outputs": [
    {
     "data": {
      "text/plain": [
       "step              0\n",
       "type              0\n",
       "amount            0\n",
       "nameOrig          0\n",
       "oldbalanceOrg     0\n",
       "newbalanceOrig    0\n",
       "nameDest          0\n",
       "oldbalanceDest    0\n",
       "newbalanceDest    0\n",
       "isFraud           0\n",
       "isFlaggedFraud    0\n",
       "dtype: int64"
      ]
     },
     "execution_count": 5,
     "metadata": {},
     "output_type": "execute_result"
    }
   ],
   "source": [
    "df.isnull().sum()"
   ]
  },
  {
   "cell_type": "code",
   "execution_count": 6,
   "id": "b1ab6756",
   "metadata": {
    "papermill": {
     "duration": 11.443931,
     "end_time": "2024-07-07T14:45:26.123632",
     "exception": false,
     "start_time": "2024-07-07T14:45:14.679701",
     "status": "completed"
    },
    "tags": []
   },
   "outputs": [
    {
     "data": {
      "text/plain": [
       "0"
      ]
     },
     "execution_count": 6,
     "metadata": {},
     "output_type": "execute_result"
    }
   ],
   "source": [
    "df.duplicated().sum()"
   ]
  },
  {
   "cell_type": "code",
   "execution_count": 7,
   "id": "51ec7f6f",
   "metadata": {
    "papermill": {
     "duration": 0.239826,
     "end_time": "2024-07-07T14:45:26.375475",
     "exception": false,
     "start_time": "2024-07-07T14:45:26.135649",
     "status": "completed"
    },
    "tags": []
   },
   "outputs": [
    {
     "data": {
      "image/png": "[encoded data removed]",
      "text/plain": [
       "<Figure size 640x480 with 1 Axes>"
      ]
     },
     "metadata": {},
     "output_type": "display_data"
    }
   ],
   "source": [
    "plt.pie(df[\"isFraud\"].value_counts(),labels=df[\"isFraud\"].unique(),autopct='%1.3f%%')\n",
    "plt.show()"
   ]
  },
  {
   "cell_type": "code",
   "execution_count": 8,
   "id": "5ef72388",
   "metadata": {
    "papermill": {
     "duration": 0.094371,
     "end_time": "2024-07-07T14:45:26.495073",
     "exception": false,
     "start_time": "2024-07-07T14:45:26.400702",
     "status": "completed"
    },
    "tags": []
   },
   "outputs": [
    {
     "data": {
      "text/plain": [
       "isFraud\n",
       "0    6354407\n",
       "1       8213\n",
       "Name: count, dtype: int64"
      ]
     },
     "execution_count": 8,
     "metadata": {},
     "output_type": "execute_result"
    }
   ],
   "source": [
    "df[\"isFraud\"].value_counts()"
   ]
  },
  {
   "cell_type": "markdown",
   "id": "f4225964",
   "metadata": {
    "papermill": {
     "duration": 0.011915,
     "end_time": "2024-07-07T14:45:26.519188",
     "exception": false,
     "start_time": "2024-07-07T14:45:26.507273",
     "status": "completed"
    },
    "tags": []
   },
   "source": [
    "# Feature engineering"
   ]
  },
  {
   "cell_type": "markdown",
   "id": "0d2235ab",
   "metadata": {
    "papermill": {
     "duration": 0.011788,
     "end_time": "2024-07-07T14:45:26.543052",
     "exception": false,
     "start_time": "2024-07-07T14:45:26.531264",
     "status": "completed"
    },
    "tags": []
   },
   "source": [
    "how much amount has been debited from payer's account in effect to the transaction?"
   ]
  },
  {
   "cell_type": "code",
   "execution_count": 9,
   "id": "c87cb9f4",
   "metadata": {
    "papermill": {
     "duration": 0.291825,
     "end_time": "2024-07-07T14:45:26.846863",
     "exception": false,
     "start_time": "2024-07-07T14:45:26.555038",
     "status": "completed"
    },
    "tags": []
   },
   "outputs": [
    {
     "data": {
      "text/plain": [
       "count    6.362620e+06\n",
       "mean    -2.123056e+04\n",
       "std      1.466433e+05\n",
       "min     -1.915268e+06\n",
       "25%      0.000000e+00\n",
       "50%      0.000000e+00\n",
       "75%      1.015044e+04\n",
       "max      1.000000e+07\n",
       "Name: payerdebited, dtype: float64"
      ]
     },
     "execution_count": 9,
     "metadata": {},
     "output_type": "execute_result"
    }
   ],
   "source": [
    "df[\"payerdebited\"]=df[\"oldbalanceOrg\"]-df[\"newbalanceOrig\"]\n",
    "df[\"payerdebited\"].describe()"
   ]
  },
  {
   "cell_type": "markdown",
   "id": "856f4b19",
   "metadata": {
    "papermill": {
     "duration": 0.012191,
     "end_time": "2024-07-07T14:45:26.871520",
     "exception": false,
     "start_time": "2024-07-07T14:45:26.859329",
     "status": "completed"
    },
    "tags": []
   },
   "source": [
    "**How much amount has been credited to reciever's account in effect to the transaction?**"
   ]
  },
  {
   "cell_type": "code",
   "execution_count": 10,
   "id": "ae6eb986",
   "metadata": {
    "papermill": {
     "duration": 0.279165,
     "end_time": "2024-07-07T14:45:27.162838",
     "exception": false,
     "start_time": "2024-07-07T14:45:26.883673",
     "status": "completed"
    },
    "tags": []
   },
   "outputs": [
    {
     "data": {
      "text/plain": [
       "count    6.362620e+06\n",
       "mean     1.242947e+05\n",
       "std      8.129391e+05\n",
       "min     -1.306083e+07\n",
       "25%      0.000000e+00\n",
       "50%      0.000000e+00\n",
       "75%      1.491054e+05\n",
       "max      1.056878e+08\n",
       "Name: recievercredited, dtype: float64"
      ]
     },
     "execution_count": 10,
     "metadata": {},
     "output_type": "execute_result"
    }
   ],
   "source": [
    "df[\"recievercredited\"]=df[\"newbalanceDest\"]-df[\"oldbalanceDest\"] \n",
    "df[\"recievercredited\"].describe()"
   ]
  },
  {
   "cell_type": "markdown",
   "id": "8c0a9873",
   "metadata": {
    "papermill": {
     "duration": 0.012244,
     "end_time": "2024-07-07T14:45:27.188125",
     "exception": false,
     "start_time": "2024-07-07T14:45:27.175881",
     "status": "completed"
    },
    "tags": []
   },
   "source": [
    "Is the reciever a merchant (M) or customer (C)?"
   ]
  },
  {
   "cell_type": "code",
   "execution_count": 11,
   "id": "6ac14c9c",
   "metadata": {
    "papermill": {
     "duration": 2.433211,
     "end_time": "2024-07-07T14:45:29.633831",
     "exception": false,
     "start_time": "2024-07-07T14:45:27.200620",
     "status": "completed"
    },
    "tags": []
   },
   "outputs": [
    {
     "data": {
      "text/plain": [
       "reciever_type\n",
       "C    4211125\n",
       "M    2151495\n",
       "Name: count, dtype: int64"
      ]
     },
     "execution_count": 11,
     "metadata": {},
     "output_type": "execute_result"
    }
   ],
   "source": [
    "df[\"reciever_type\"]=[i[0:1] for i in df[\"nameDest\"]] # is the reciever a merchant (M) or customer (C)?\n",
    "df[\"reciever_type\"].value_counts()"
   ]
  },
  {
   "cell_type": "code",
   "execution_count": 12,
   "id": "897c4828",
   "metadata": {
    "papermill": {
     "duration": 0.86073,
     "end_time": "2024-07-07T14:45:30.507525",
     "exception": false,
     "start_time": "2024-07-07T14:45:29.646795",
     "status": "completed"
    },
    "tags": []
   },
   "outputs": [
    {
     "data": {
      "image/png": "[encoded data removed]",
      "text/plain": [
       "<Figure size 640x480 with 1 Axes>"
      ]
     },
     "metadata": {},
     "output_type": "display_data"
    }
   ],
   "source": [
    "plt.pie(df[\"reciever_type\"].value_counts(), labels=[\"Merchant\",\"Customer\"],autopct='%1.1f%%')\n",
    "plt.title(\"Proportion of transactions for each customer type\")\n",
    "plt.show()"
   ]
  },
  {
   "cell_type": "markdown",
   "id": "3ec43152",
   "metadata": {
    "papermill": {
     "duration": 0.027823,
     "end_time": "2024-07-07T14:45:30.564011",
     "exception": false,
     "start_time": "2024-07-07T14:45:30.536188",
     "status": "completed"
    },
    "tags": []
   },
   "source": [
    "Is the payer a merchant (M) or customer (C)?"
   ]
  },
  {
   "cell_type": "code",
   "execution_count": 13,
   "id": "6bd6be9c",
   "metadata": {
    "papermill": {
     "duration": 2.338926,
     "end_time": "2024-07-07T14:45:32.925048",
     "exception": false,
     "start_time": "2024-07-07T14:45:30.586122",
     "status": "completed"
    },
    "tags": []
   },
   "outputs": [
    {
     "data": {
      "text/plain": [
       "payer_type\n",
       "C    6362620\n",
       "Name: count, dtype: int64"
      ]
     },
     "execution_count": 13,
     "metadata": {},
     "output_type": "execute_result"
    }
   ],
   "source": [
    "df[\"payer_type\"]=[i[0:1] for i in df[\"nameOrig\"]] # is the payer a merchant (M) or customer (C)?\n",
    "df[\"payer_type\"].value_counts()"
   ]
  },
  {
   "cell_type": "markdown",
   "id": "09baf754",
   "metadata": {
    "papermill": {
     "duration": 0.014074,
     "end_time": "2024-07-07T14:45:32.952918",
     "exception": false,
     "start_time": "2024-07-07T14:45:32.938844",
     "status": "completed"
    },
    "tags": []
   },
   "source": [
    "To make the features related to the real world, lets assume that the dataset belongs to September, 2024 as the financial year begins with September and it is exactly 30 days long. "
   ]
  },
  {
   "cell_type": "code",
   "execution_count": 14,
   "id": "a0a65030",
   "metadata": {
    "papermill": {
     "duration": 0.562703,
     "end_time": "2024-07-07T14:45:33.528742",
     "exception": false,
     "start_time": "2024-07-07T14:45:32.966039",
     "status": "completed"
    },
    "tags": []
   },
   "outputs": [],
   "source": [
    "df['datetime'] = pd.to_datetime('2024-09-01') + pd.to_timedelta(df['step'], unit='h')"
   ]
  },
  {
   "cell_type": "code",
   "execution_count": 16,
   "id": "2d0ca3a8",
   "metadata": {
    "papermill": {
     "duration": 0.482057,
     "end_time": "2024-07-07T14:45:34.029780",
     "exception": false,
     "start_time": "2024-07-07T14:45:33.547723",
     "status": "completed"
    },
    "tags": []
   },
   "outputs": [
    {
     "data": {
      "image/png": "[encoded data removed]",
      "text/plain": [
       "<Figure size 640x480 with 1 Axes>"
      ]
     },
     "metadata": {},
     "output_type": "display_data"
    }
   ],
   "source": [
    "df['hour'] = df['datetime'].dt.hour\n",
    "plt.bar(df['hour'].unique(),df['hour'].value_counts())\n",
    "plt.xlim(0.5,24.5)\n",
    "plt.xticks(range(4,25,4))\n",
    "plt.xlabel(\"Hours of the day\")\n",
    "plt.ylabel(\"No. of transactions\")\n",
    "plt.title(\"Transactions wrt each hour of the day\")\n",
    "plt.show()"
   ]
  },
  {
   "cell_type": "code",
   "execution_count": 19,
   "id": "afad559d",
   "metadata": {
    "papermill": {
     "duration": 0.493834,
     "end_time": "2024-07-07T14:45:34.577010",
     "exception": false,
     "start_time": "2024-07-07T14:45:34.083176",
     "status": "completed"
    },
    "tags": []
   },
   "outputs": [
    {
     "data": {
      "image/png": "[encoded data removed]",
      "text/plain": [
       "<Figure size 640x480 with 1 Axes>"
      ]
     },
     "metadata": {},
     "output_type": "display_data"
    }
   ],
   "source": [
    "df['day_of_week'] = df['datetime'].dt.dayofweek\n",
    "plt.bar([\"Monday\",\"Tuesday\",\"Wednesday\",\"Thursday\",\"Friday\",\"Saturday\",\"Sunday\"],df['day_of_week'].value_counts())\n",
    "plt.xticks(rotation=45, ha='right')\n",
    "plt.xlabel(\"Days of the week\")\n",
    "plt.ylabel(\"No. of Transactions\")\n",
    "plt.title(\"No. of transactions of each day of the week\")\n",
    "plt.show()"
   ]
  },
  {
   "cell_type": "code",
   "execution_count": 20,
   "id": "43add185",
   "metadata": {
    "papermill": {
     "duration": 0.485723,
     "end_time": "2024-07-07T14:45:35.077317",
     "exception": false,
     "start_time": "2024-07-07T14:45:34.591594",
     "status": "completed"
    },
    "tags": []
   },
   "outputs": [
    {
     "data": {
      "image/png": "[encoded data removed]",
      "text/plain": [
       "<Figure size 640x480 with 1 Axes>"
      ]
     },
     "metadata": {},
     "output_type": "display_data"
    }
   ],
   "source": [
    "df['date'] = df['datetime'].dt.day\n",
    "plt.bar(df['date'].unique(),df['date'].value_counts())\n",
    "plt.xlim(0.5,30.5)\n",
    "plt.xlabel(\"Dates of month\")\n",
    "plt.ylabel(\"No. of Transactions\")\n",
    "plt.title(\"No. of Transactions on each day of the month\")\n",
    "plt.show()"
   ]
  },
  {
   "cell_type": "code",
   "execution_count": 21,
   "id": "c091305b",
   "metadata": {
    "papermill": {
     "duration": 1.012181,
     "end_time": "2024-07-07T14:45:36.104939",
     "exception": false,
     "start_time": "2024-07-07T14:45:35.092758",
     "status": "completed"
    },
    "tags": []
   },
   "outputs": [
    {
     "data": {
      "text/plain": [
       "type\n",
       "CASH_OUT    2237500\n",
       "PAYMENT     2151495\n",
       "CASH_IN     1399284\n",
       "TRANSFER     532909\n",
       "DEBIT         41432\n",
       "Name: count, dtype: int64"
      ]
     },
     "execution_count": 21,
     "metadata": {},
     "output_type": "execute_result"
    }
   ],
   "source": [
    "df[\"type\"].value_counts()"
   ]
  },
  {
   "cell_type": "code",
   "execution_count": 26,
   "id": "1df93f22",
   "metadata": {
    "papermill": {
     "duration": 2.104693,
     "end_time": "2024-07-07T14:45:38.225189",
     "exception": false,
     "start_time": "2024-07-07T14:45:36.120496",
     "status": "completed"
    },
    "tags": []
   },
   "outputs": [
    {
     "data": {
      "image/png": "[encoded data removed]",
      "text/plain": [
       "<Figure size 640x480 with 1 Axes>"
      ]
     },
     "metadata": {},
     "output_type": "display_data"
    }
   ],
   "source": [
    "plt.pie(df[\"type\"].value_counts(), labels=df[\"type\"].value_counts().index,autopct='%1.1f%%')\n",
    "plt.title(\"Transactions wrt each transaction type\")\n",
    "plt.show()"
   ]
  },
  {
   "cell_type": "code",
   "execution_count": 27,
   "id": "05a49c1c",
   "metadata": {
    "papermill": {
     "duration": 0.402407,
     "end_time": "2024-07-07T14:45:38.644494",
     "exception": false,
     "start_time": "2024-07-07T14:45:38.242087",
     "status": "completed"
    },
    "tags": []
   },
   "outputs": [],
   "source": [
    "todrop=[\"nameDest\",\n",
    "        \"nameOrig\",\n",
    "        \"oldbalanceOrg\",\n",
    "        \"newbalanceOrig\",\n",
    "        \"newbalanceDest\",\n",
    "        \"oldbalanceDest\",\n",
    "        \"payer_type\", #this is a zero variance feature\n",
    "        \"step\", #extracted hour,date and day_of_week\n",
    "        \"datetime\",\n",
    "        \"isFlaggedFraud\"]\n",
    "df.drop(columns=todrop, inplace=True)"
   ]
  },
  {
   "cell_type": "markdown",
   "id": "40a50bff",
   "metadata": {
    "papermill": {
     "duration": 0.015478,
     "end_time": "2024-07-07T14:45:38.676093",
     "exception": false,
     "start_time": "2024-07-07T14:45:38.660615",
     "status": "completed"
    },
    "tags": []
   },
   "source": [
    "Label Encoding of Categorical columns"
   ]
  },
  {
   "cell_type": "code",
   "execution_count": 29,
   "id": "eda30622",
   "metadata": {
    "papermill": {
     "duration": 3.897632,
     "end_time": "2024-07-07T14:45:42.589273",
     "exception": false,
     "start_time": "2024-07-07T14:45:38.691641",
     "status": "completed"
    },
    "tags": []
   },
   "outputs": [],
   "source": [
    "cat_cols=[col for col in df.columns if df[col].dtype==\"object\"]\n",
    "encoder=LabelEncoder()\n",
    "encoded_df=df.copy()\n",
    "mappings={}\n",
    "for col in cat_cols:\n",
    "    encoded_df[col]=encoder.fit_transform(df[col])\n",
    "    mappings[col]=pd.Series(encoder.transform(encoder.classes_),index=(encoder.classes_))"
   ]
  },
  {
   "cell_type": "markdown",
   "id": "675c7ac7",
   "metadata": {
    "papermill": {
     "duration": 0.015693,
     "end_time": "2024-07-07T14:45:42.621317",
     "exception": false,
     "start_time": "2024-07-07T14:45:42.605624",
     "status": "completed"
    },
    "tags": []
   },
   "source": [
    "**correlation matrix will tell us which features show multicollinearity**"
   ]
  },
  {
   "cell_type": "code",
   "execution_count": 48,
   "id": "6a2a8b67",
   "metadata": {
    "papermill": {
     "duration": 2.084402,
     "end_time": "2024-07-07T14:45:44.721442",
     "exception": false,
     "start_time": "2024-07-07T14:45:42.637040",
     "status": "completed"
    },
    "tags": []
   },
   "outputs": [
    {
     "data": {
      "image/png": "[encoded data removed]",
      "text/plain": [
       "<Figure size 2000x1800 with 2 Axes>"
      ]
     },
     "metadata": {},
     "output_type": "display_data"
    }
   ],
   "source": [
    "plt.figure(figsize=(20,18))\n",
    "corr = encoded_df.corr()\n",
    "sns.heatmap(corr, annot = True, cmap=\"twilight\")\n",
    "plt.show()"
   ]
  },
  {
   "cell_type": "markdown",
   "id": "47519ea3",
   "metadata": {
    "papermill": {
     "duration": 0.017352,
     "end_time": "2024-07-07T14:45:44.756209",
     "exception": false,
     "start_time": "2024-07-07T14:45:44.738857",
     "status": "completed"
    },
    "tags": []
   },
   "source": [
    "Since amount and recievercredited are highly correlated to each other, we have to remove one of them to avoid overfitting"
   ]
  },
  {
   "cell_type": "code",
   "execution_count": 49,
   "id": "1a5034a6",
   "metadata": {
    "papermill": {
     "duration": 0.148587,
     "end_time": "2024-07-07T14:45:44.921804",
     "exception": false,
     "start_time": "2024-07-07T14:45:44.773217",
     "status": "completed"
    },
    "tags": []
   },
   "outputs": [],
   "source": [
    "encoded_df.drop(columns=[\"recievercredited\"],inplace=True)"
   ]
  },
  {
   "cell_type": "markdown",
   "id": "bf5c1a87",
   "metadata": {
    "papermill": {
     "duration": 0.016972,
     "end_time": "2024-07-07T14:45:44.956433",
     "exception": false,
     "start_time": "2024-07-07T14:45:44.939461",
     "status": "completed"
    },
    "tags": []
   },
   "source": [
    "code to display which categories in each categorical variable have been mapped to which numerical value by the label encodder"
   ]
  },
  {
   "cell_type": "code",
   "execution_count": 50,
   "id": "301bafc9",
   "metadata": {
    "papermill": {
     "duration": 0.026883,
     "end_time": "2024-07-07T14:45:45.000315",
     "exception": false,
     "start_time": "2024-07-07T14:45:44.973432",
     "status": "completed"
    },
    "tags": []
   },
   "outputs": [
    {
     "name": "stdout",
     "output_type": "stream",
     "text": [
      "mappings for df[type]:\n",
      "CASH_IN     0\n",
      "CASH_OUT    1\n",
      "DEBIT       2\n",
      "PAYMENT     3\n",
      "TRANSFER    4\n",
      "dtype: int32 \n",
      "\n",
      "mappings for df[reciever_type]:\n",
      "C    0\n",
      "M    1\n",
      "dtype: int32 \n",
      "\n"
     ]
    }
   ],
   "source": [
    "for col,mapping in mappings.items():\n",
    "    print(f\"mappings for df[{col}]:\\n{mapping} \\n\")"
   ]
  },
  {
   "cell_type": "markdown",
   "id": "06473d22",
   "metadata": {
    "papermill": {
     "duration": 0.01693,
     "end_time": "2024-07-07T14:45:45.034238",
     "exception": false,
     "start_time": "2024-07-07T14:45:45.017308",
     "status": "completed"
    },
    "tags": []
   },
   "source": [
    "function to count the number of outliers"
   ]
  },
  {
   "cell_type": "code",
   "execution_count": 53,
   "id": "a85131f8",
   "metadata": {
    "papermill": {
     "duration": 0.025326,
     "end_time": "2024-07-07T14:45:45.076633",
     "exception": false,
     "start_time": "2024-07-07T14:45:45.051307",
     "status": "completed"
    },
    "tags": []
   },
   "outputs": [],
   "source": [
    "def outlier_count(data):\n",
    "    Q1=data.quantile(.25)\n",
    "    Q3=data.quantile(.75)\n",
    "    IQR=Q3-Q1\n",
    "    upwhisk=Q3+(IQR*1.5)\n",
    "    lowhisk=Q1-(IQR*1.5)\n",
    "    outlier_count=0\n",
    "    for i in range(len(data)):\n",
    "        if data[i]>upwhisk or data[i]<lowhisk:\n",
    "            outlier_count=+1\n",
    "    return outlier_count"
   ]
  },
  {
   "cell_type": "code",
   "execution_count": 54,
   "id": "08c64660",
   "metadata": {
    "papermill": {
     "duration": 383.403865,
     "end_time": "2024-07-07T14:52:08.497685",
     "exception": false,
     "start_time": "2024-07-07T14:45:45.093820",
     "status": "completed"
    },
    "tags": []
   },
   "outputs": [
    {
     "name": "stdout",
     "output_type": "stream",
     "text": [
      "No of Outliers:4\n"
     ]
    }
   ],
   "source": [
    "outliers=0\n",
    "columns=encoded_df.drop(columns=[\"isFraud\"])\n",
    "for col in columns:\n",
    "    outliers+=outlier_count(encoded_df[col])\n",
    "print(f'No of Outliers:{outliers}')"
   ]
  },
  {
   "cell_type": "markdown",
   "id": "7e1125b4",
   "metadata": {
    "papermill": {
     "duration": 0.017133,
     "end_time": "2024-07-07T14:52:08.532391",
     "exception": false,
     "start_time": "2024-07-07T14:52:08.515258",
     "status": "completed"
    },
    "tags": []
   },
   "source": [
    "# Training and building the model"
   ]
  },
  {
   "cell_type": "code",
   "execution_count": 56,
   "id": "69ad56bf",
   "metadata": {
    "papermill": {
     "duration": 0.13146,
     "end_time": "2024-07-07T14:52:08.681097",
     "exception": false,
     "start_time": "2024-07-07T14:52:08.549637",
     "status": "completed"
    },
    "tags": []
   },
   "outputs": [],
   "source": [
    "x=encoded_df.drop(columns=\"isFraud\") #independent variables"
   ]
  },
  {
   "cell_type": "markdown",
   "id": "4aa23bec",
   "metadata": {
    "papermill": {
     "duration": 0.017187,
     "end_time": "2024-07-07T14:52:08.716481",
     "exception": false,
     "start_time": "2024-07-07T14:52:08.699294",
     "status": "completed"
    },
    "tags": []
   },
   "source": [
    "Since an attempt to transfer more than 200,000 in a single transaction is an illegal attempt, we modify the target variable accordingly  "
   ]
  },
  {
   "cell_type": "code",
   "execution_count": 57,
   "id": "b7e21857",
   "metadata": {
    "papermill": {
     "duration": 182.15991,
     "end_time": "2024-07-07T14:55:10.893598",
     "exception": false,
     "start_time": "2024-07-07T14:52:08.733688",
     "status": "completed"
    },
    "tags": []
   },
   "outputs": [],
   "source": [
    "y = pd.Series([\n",
    "    1 if encoded_df.loc[i, \"amount\"] > 200000 else encoded_df.loc[i, \"isFraud\"] for i in range(len(encoded_df))\n",
    "    ]) # dependent variable"
   ]
  },
  {
   "cell_type": "code",
   "execution_count": 60,
   "id": "be7c2871",
   "metadata": {
    "papermill": {
     "duration": 0.927739,
     "end_time": "2024-07-07T14:55:11.839864",
     "exception": false,
     "start_time": "2024-07-07T14:55:10.912125",
     "status": "completed"
    },
    "tags": []
   },
   "outputs": [],
   "source": [
    "x_train, x_test, y_train, y_test = train_test_split(x, y, test_size=0.2, random_state=42)"
   ]
  },
  {
   "cell_type": "code",
   "execution_count": 61,
   "id": "27cd0f72",
   "metadata": {
    "papermill": {
     "duration": 109.578106,
     "end_time": "2024-07-07T14:57:01.436317",
     "exception": false,
     "start_time": "2024-07-07T14:55:11.858211",
     "status": "completed"
    },
    "tags": []
   },
   "outputs": [
    {
     "data": {
      "text/html": [
       "<style>#sk-container-id-2 {\n",
       "  /* Definition of color scheme common for light and dark mode */\n",
       "  --sklearn-color-text: black;\n",
       "  --sklearn-color-line: gray;\n",
       "  /* Definition of color scheme for unfitted estimators */\n",
       "  --sklearn-color-unfitted-level-0: #fff5e6;\n",
       "  --sklearn-color-unfitted-level-1: #f6e4d2;\n",
       "  --sklearn-color-unfitted-level-2: #ffe0b3;\n",
       "  --sklearn-color-unfitted-level-3: chocolate;\n",
       "  /* Definition of color scheme for fitted estimators */\n",
       "  --sklearn-color-fitted-level-0: #f0f8ff;\n",
       "  --sklearn-color-fitted-level-1: #d4ebff;\n",
       "  --sklearn-color-fitted-level-2: #b3dbfd;\n",
       "  --sklearn-color-fitted-level-3: cornflowerblue;\n",
       "\n",
       "  /* Specific color for light theme */\n",
       "  --sklearn-color-text-on-default-background: var(--sg-text-color, var(--theme-code-foreground, var(--jp-content-font-color1, black)));\n",
       "  --sklearn-color-background: var(--sg-background-color, var(--theme-background, var(--jp-layout-color0, white)));\n",
       "  --sklearn-color-border-box: var(--sg-text-color, var(--theme-code-foreground, var(--jp-content-font-color1, black)));\n",
       "  --sklearn-color-icon: #696969;\n",
       "\n",
       "  @media (prefers-color-scheme: dark) {\n",
       "    /* Redefinition of color scheme for dark theme */\n",
       "    --sklearn-color-text-on-default-background: var(--sg-text-color, var(--theme-code-foreground, var(--jp-content-font-color1, white)));\n",
       "    --sklearn-color-background: var(--sg-background-color, var(--theme-background, var(--jp-layout-color0, #111)));\n",
       "    --sklearn-color-border-box: var(--sg-text-color, var(--theme-code-foreground, var(--jp-content-font-color1, white)));\n",
       "    --sklearn-color-icon: #878787;\n",
       "  }\n",
       "}\n",
       "\n",
       "#sk-container-id-2 {\n",
       "  color: var(--sklearn-color-text);\n",
       "}\n",
       "\n",
       "#sk-container-id-2 pre {\n",
       "  padding: 0;\n",
       "}\n",
       "\n",
       "#sk-container-id-2 input.sk-hidden--visually {\n",
       "  border: 0;\n",
       "  clip: rect(1px 1px 1px 1px);\n",
       "  clip: rect(1px, 1px, 1px, 1px);\n",
       "  height: 1px;\n",
       "  margin: -1px;\n",
       "  overflow: hidden;\n",
       "  padding: 0;\n",
       "  position: absolute;\n",
       "  width: 1px;\n",
       "}\n",
       "\n",
       "#sk-container-id-2 div.sk-dashed-wrapped {\n",
       "  border: 1px dashed var(--sklearn-color-line);\n",
       "  margin: 0 0.4em 0.5em 0.4em;\n",
       "  box-sizing: border-box;\n",
       "  padding-bottom: 0.4em;\n",
       "  background-color: var(--sklearn-color-background);\n",
       "}\n",
       "\n",
       "#sk-container-id-2 div.sk-container {\n",
       "  /* jupyter's `normalize.less` sets `[hidden] { display: none; }`\n",
       "     but bootstrap.min.css set `[hidden] { display: none !important; }`\n",
       "     so we also need the `!important` here to be able to override the\n",
       "     default hidden behavior on the sphinx rendered scikit-learn.org.\n",
       "     See: https://github.com/scikit-learn/scikit-learn/issues/21755 */\n",
       "  display: inline-block !important;\n",
       "  position: relative;\n",
       "}\n",
       "\n",
       "#sk-container-id-2 div.sk-text-repr-fallback {\n",
       "  display: none;\n",
       "}\n",
       "\n",
       "div.sk-parallel-item,\n",
       "div.sk-serial,\n",
       "div.sk-item {\n",
       "  /* draw centered vertical line to link estimators */\n",
       "  background-image: linear-gradient(var(--sklearn-color-text-on-default-background), var(--sklearn-color-text-on-default-background));\n",
       "  background-size: 2px 100%;\n",
       "  background-repeat: no-repeat;\n",
       "  background-position: center center;\n",
       "}\n",
       "\n",
       "/* Parallel-specific style estimator block */\n",
       "\n",
       "#sk-container-id-2 div.sk-parallel-item::after {\n",
       "  content: \"\";\n",
       "  width: 100%;\n",
       "  border-bottom: 2px solid var(--sklearn-color-text-on-default-background);\n",
       "  flex-grow: 1;\n",
       "}\n",
       "\n",
       "#sk-container-id-2 div.sk-parallel {\n",
       "  display: flex;\n",
       "  align-items: stretch;\n",
       "  justify-content: center;\n",
       "  background-color: var(--sklearn-color-background);\n",
       "  position: relative;\n",
       "}\n",
       "\n",
       "#sk-container-id-2 div.sk-parallel-item {\n",
       "  display: flex;\n",
       "  flex-direction: column;\n",
       "}\n",
       "\n",
       "#sk-container-id-2 div.sk-parallel-item:first-child::after {\n",
       "  align-self: flex-end;\n",
       "  width: 50%;\n",
       "}\n",
       "\n",
       "#sk-container-id-2 div.sk-parallel-item:last-child::after {\n",
       "  align-self: flex-start;\n",
       "  width: 50%;\n",
       "}\n",
       "\n",
       "#sk-container-id-2 div.sk-parallel-item:only-child::after {\n",
       "  width: 0;\n",
       "}\n",
       "\n",
       "/* Serial-specific style estimator block */\n",
       "\n",
       "#sk-container-id-2 div.sk-serial {\n",
       "  display: flex;\n",
       "  flex-direction: column;\n",
       "  align-items: center;\n",
       "  background-color: var(--sklearn-color-background);\n",
       "  padding-right: 1em;\n",
       "  padding-left: 1em;\n",
       "}\n",
       "\n",
       "\n",
       "/* Toggleable style: style used for estimator/Pipeline/ColumnTransformer box that is\n",
       "clickable and can be expanded/collapsed.\n",
       "- Pipeline and ColumnTransformer use this feature and define the default style\n",
       "- Estimators will overwrite some part of the style using the `sk-estimator` class\n",
       "*/\n",
       "\n",
       "/* Pipeline and ColumnTransformer style (default) */\n",
       "\n",
       "#sk-container-id-2 div.sk-toggleable {\n",
       "  /* Default theme specific background. It is overwritten whether we have a\n",
       "  specific estimator or a Pipeline/ColumnTransformer */\n",
       "  background-color: var(--sklearn-color-background);\n",
       "}\n",
       "\n",
       "/* Toggleable label */\n",
       "#sk-container-id-2 label.sk-toggleable__label {\n",
       "  cursor: pointer;\n",
       "  display: block;\n",
       "  width: 100%;\n",
       "  margin-bottom: 0;\n",
       "  padding: 0.5em;\n",
       "  box-sizing: border-box;\n",
       "  text-align: center;\n",
       "}\n",
       "\n",
       "#sk-container-id-2 label.sk-toggleable__label-arrow:before {\n",
       "  /* Arrow on the left of the label */\n",
       "  content: \"▸\";\n",
       "  float: left;\n",
       "  margin-right: 0.25em;\n",
       "  color: var(--sklearn-color-icon);\n",
       "}\n",
       "\n",
       "#sk-container-id-2 label.sk-toggleable__label-arrow:hover:before {\n",
       "  color: var(--sklearn-color-text);\n",
       "}\n",
       "\n",
       "/* Toggleable content - dropdown */\n",
       "\n",
       "#sk-container-id-2 div.sk-toggleable__content {\n",
       "  max-height: 0;\n",
       "  max-width: 0;\n",
       "  overflow: hidden;\n",
       "  text-align: left;\n",
       "  /* unfitted */\n",
       "  background-color: var(--sklearn-color-unfitted-level-0);\n",
       "}\n",
       "\n",
       "#sk-container-id-2 div.sk-toggleable__content.fitted {\n",
       "  /* fitted */\n",
       "  background-color: var(--sklearn-color-fitted-level-0);\n",
       "}\n",
       "\n",
       "#sk-container-id-2 div.sk-toggleable__content pre {\n",
       "  margin: 0.2em;\n",
       "  border-radius: 0.25em;\n",
       "  color: var(--sklearn-color-text);\n",
       "  /* unfitted */\n",
       "  background-color: var(--sklearn-color-unfitted-level-0);\n",
       "}\n",
       "\n",
       "#sk-container-id-2 div.sk-toggleable__content.fitted pre {\n",
       "  /* unfitted */\n",
       "  background-color: var(--sklearn-color-fitted-level-0);\n",
       "}\n",
       "\n",
       "#sk-container-id-2 input.sk-toggleable__control:checked~div.sk-toggleable__content {\n",
       "  /* Expand drop-down */\n",
       "  max-height: 200px;\n",
       "  max-width: 100%;\n",
       "  overflow: auto;\n",
       "}\n",
       "\n",
       "#sk-container-id-2 input.sk-toggleable__control:checked~label.sk-toggleable__label-arrow:before {\n",
       "  content: \"▾\";\n",
       "}\n",
       "\n",
       "/* Pipeline/ColumnTransformer-specific style */\n",
       "\n",
       "#sk-container-id-2 div.sk-label input.sk-toggleable__control:checked~label.sk-toggleable__label {\n",
       "  color: var(--sklearn-color-text);\n",
       "  background-color: var(--sklearn-color-unfitted-level-2);\n",
       "}\n",
       "\n",
       "#sk-container-id-2 div.sk-label.fitted input.sk-toggleable__control:checked~label.sk-toggleable__label {\n",
       "  background-color: var(--sklearn-color-fitted-level-2);\n",
       "}\n",
       "\n",
       "/* Estimator-specific style */\n",
       "\n",
       "/* Colorize estimator box */\n",
       "#sk-container-id-2 div.sk-estimator input.sk-toggleable__control:checked~label.sk-toggleable__label {\n",
       "  /* unfitted */\n",
       "  background-color: var(--sklearn-color-unfitted-level-2);\n",
       "}\n",
       "\n",
       "#sk-container-id-2 div.sk-estimator.fitted input.sk-toggleable__control:checked~label.sk-toggleable__label {\n",
       "  /* fitted */\n",
       "  background-color: var(--sklearn-color-fitted-level-2);\n",
       "}\n",
       "\n",
       "#sk-container-id-2 div.sk-label label.sk-toggleable__label,\n",
       "#sk-container-id-2 div.sk-label label {\n",
       "  /* The background is the default theme color */\n",
       "  color: var(--sklearn-color-text-on-default-background);\n",
       "}\n",
       "\n",
       "/* On hover, darken the color of the background */\n",
       "#sk-container-id-2 div.sk-label:hover label.sk-toggleable__label {\n",
       "  color: var(--sklearn-color-text);\n",
       "  background-color: var(--sklearn-color-unfitted-level-2);\n",
       "}\n",
       "\n",
       "/* Label box, darken color on hover, fitted */\n",
       "#sk-container-id-2 div.sk-label.fitted:hover label.sk-toggleable__label.fitted {\n",
       "  color: var(--sklearn-color-text);\n",
       "  background-color: var(--sklearn-color-fitted-level-2);\n",
       "}\n",
       "\n",
       "/* Estimator label */\n",
       "\n",
       "#sk-container-id-2 div.sk-label label {\n",
       "  font-family: monospace;\n",
       "  font-weight: bold;\n",
       "  display: inline-block;\n",
       "  line-height: 1.2em;\n",
       "}\n",
       "\n",
       "#sk-container-id-2 div.sk-label-container {\n",
       "  text-align: center;\n",
       "}\n",
       "\n",
       "/* Estimator-specific */\n",
       "#sk-container-id-2 div.sk-estimator {\n",
       "  font-family: monospace;\n",
       "  border: 1px dotted var(--sklearn-color-border-box);\n",
       "  border-radius: 0.25em;\n",
       "  box-sizing: border-box;\n",
       "  margin-bottom: 0.5em;\n",
       "  /* unfitted */\n",
       "  background-color: var(--sklearn-color-unfitted-level-0);\n",
       "}\n",
       "\n",
       "#sk-container-id-2 div.sk-estimator.fitted {\n",
       "  /* fitted */\n",
       "  background-color: var(--sklearn-color-fitted-level-0);\n",
       "}\n",
       "\n",
       "/* on hover */\n",
       "#sk-container-id-2 div.sk-estimator:hover {\n",
       "  /* unfitted */\n",
       "  background-color: var(--sklearn-color-unfitted-level-2);\n",
       "}\n",
       "\n",
       "#sk-container-id-2 div.sk-estimator.fitted:hover {\n",
       "  /* fitted */\n",
       "  background-color: var(--sklearn-color-fitted-level-2);\n",
       "}\n",
       "\n",
       "/* Specification for estimator info (e.g. \"i\" and \"?\") */\n",
       "\n",
       "/* Common style for \"i\" and \"?\" */\n",
       "\n",
       ".sk-estimator-doc-link,\n",
       "a:link.sk-estimator-doc-link,\n",
       "a:visited.sk-estimator-doc-link {\n",
       "  float: right;\n",
       "  font-size: smaller;\n",
       "  line-height: 1em;\n",
       "  font-family: monospace;\n",
       "  background-color: var(--sklearn-color-background);\n",
       "  border-radius: 1em;\n",
       "  height: 1em;\n",
       "  width: 1em;\n",
       "  text-decoration: none !important;\n",
       "  margin-left: 1ex;\n",
       "  /* unfitted */\n",
       "  border: var(--sklearn-color-unfitted-level-1) 1pt solid;\n",
       "  color: var(--sklearn-color-unfitted-level-1);\n",
       "}\n",
       "\n",
       ".sk-estimator-doc-link.fitted,\n",
       "a:link.sk-estimator-doc-link.fitted,\n",
       "a:visited.sk-estimator-doc-link.fitted {\n",
       "  /* fitted */\n",
       "  border: var(--sklearn-color-fitted-level-1) 1pt solid;\n",
       "  color: var(--sklearn-color-fitted-level-1);\n",
       "}\n",
       "\n",
       "/* On hover */\n",
       "div.sk-estimator:hover .sk-estimator-doc-link:hover,\n",
       ".sk-estimator-doc-link:hover,\n",
       "div.sk-label-container:hover .sk-estimator-doc-link:hover,\n",
       ".sk-estimator-doc-link:hover {\n",
       "  /* unfitted */\n",
       "  background-color: var(--sklearn-color-unfitted-level-3);\n",
       "  color: var(--sklearn-color-background);\n",
       "  text-decoration: none;\n",
       "}\n",
       "\n",
       "div.sk-estimator.fitted:hover .sk-estimator-doc-link.fitted:hover,\n",
       ".sk-estimator-doc-link.fitted:hover,\n",
       "div.sk-label-container:hover .sk-estimator-doc-link.fitted:hover,\n",
       ".sk-estimator-doc-link.fitted:hover {\n",
       "  /* fitted */\n",
       "  background-color: var(--sklearn-color-fitted-level-3);\n",
       "  color: var(--sklearn-color-background);\n",
       "  text-decoration: none;\n",
       "}\n",
       "\n",
       "/* Span, style for the box shown on hovering the info icon */\n",
       ".sk-estimator-doc-link span {\n",
       "  display: none;\n",
       "  z-index: 9999;\n",
       "  position: relative;\n",
       "  font-weight: normal;\n",
       "  right: .2ex;\n",
       "  padding: .5ex;\n",
       "  margin: .5ex;\n",
       "  width: min-content;\n",
       "  min-width: 20ex;\n",
       "  max-width: 50ex;\n",
       "  color: var(--sklearn-color-text);\n",
       "  box-shadow: 2pt 2pt 4pt #999;\n",
       "  /* unfitted */\n",
       "  background: var(--sklearn-color-unfitted-level-0);\n",
       "  border: .5pt solid var(--sklearn-color-unfitted-level-3);\n",
       "}\n",
       "\n",
       ".sk-estimator-doc-link.fitted span {\n",
       "  /* fitted */\n",
       "  background: var(--sklearn-color-fitted-level-0);\n",
       "  border: var(--sklearn-color-fitted-level-3);\n",
       "}\n",
       "\n",
       ".sk-estimator-doc-link:hover span {\n",
       "  display: block;\n",
       "}\n",
       "\n",
       "/* \"?\"-specific style due to the `<a>` HTML tag */\n",
       "\n",
       "#sk-container-id-2 a.estimator_doc_link {\n",
       "  float: right;\n",
       "  font-size: 1rem;\n",
       "  line-height: 1em;\n",
       "  font-family: monospace;\n",
       "  background-color: var(--sklearn-color-background);\n",
       "  border-radius: 1rem;\n",
       "  height: 1rem;\n",
       "  width: 1rem;\n",
       "  text-decoration: none;\n",
       "  /* unfitted */\n",
       "  color: var(--sklearn-color-unfitted-level-1);\n",
       "  border: var(--sklearn-color-unfitted-level-1) 1pt solid;\n",
       "}\n",
       "\n",
       "#sk-container-id-2 a.estimator_doc_link.fitted {\n",
       "  /* fitted */\n",
       "  border: var(--sklearn-color-fitted-level-1) 1pt solid;\n",
       "  color: var(--sklearn-color-fitted-level-1);\n",
       "}\n",
       "\n",
       "/* On hover */\n",
       "#sk-container-id-2 a.estimator_doc_link:hover {\n",
       "  /* unfitted */\n",
       "  background-color: var(--sklearn-color-unfitted-level-3);\n",
       "  color: var(--sklearn-color-background);\n",
       "  text-decoration: none;\n",
       "}\n",
       "\n",
       "#sk-container-id-2 a.estimator_doc_link.fitted:hover {\n",
       "  /* fitted */\n",
       "  background-color: var(--sklearn-color-fitted-level-3);\n",
       "}\n",
       "</style><div id=\"sk-container-id-2\" class=\"sk-top-container\"><div class=\"sk-text-repr-fallback\"><pre>RandomForestClassifier(class_weight=&#x27;balanced&#x27;, criterion=&#x27;entropy&#x27;,\n",
       "                       n_estimators=15, random_state=42)</pre><b>In a Jupyter environment, please rerun this cell to show the HTML representation or trust the notebook. <br />On GitHub, the HTML representation is unable to render, please try loading this page with nbviewer.org.</b></div><div class=\"sk-container\" hidden><div class=\"sk-item\"><div class=\"sk-estimator fitted sk-toggleable\"><input class=\"sk-toggleable__control sk-hidden--visually\" id=\"sk-estimator-id-2\" type=\"checkbox\" checked><label for=\"sk-estimator-id-2\" class=\"sk-toggleable__label fitted sk-toggleable__label-arrow fitted\">&nbsp;&nbsp;RandomForestClassifier<a class=\"sk-estimator-doc-link fitted\" rel=\"noreferrer\" target=\"_blank\" href=\"https://scikit-learn.org/1.5/modules/generated/sklearn.ensemble.RandomForestClassifier.html\">?<span>Documentation for RandomForestClassifier</span></a><span class=\"sk-estimator-doc-link fitted\">i<span>Fitted</span></span></label><div class=\"sk-toggleable__content fitted\"><pre>RandomForestClassifier(class_weight=&#x27;balanced&#x27;, criterion=&#x27;entropy&#x27;,\n",
       "                       n_estimators=15, random_state=42)</pre></div> </div></div></div></div>"
      ],
      "text/plain": [
       "RandomForestClassifier(class_weight='balanced', criterion='entropy',\n",
       "                       n_estimators=15, random_state=42)"
      ]
     },
     "execution_count": 61,
     "metadata": {},
     "output_type": "execute_result"
    }
   ],
   "source": [
    "forest=RandomForestClassifier(n_estimators=15,class_weight='balanced',criterion='entropy',random_state=42)\n",
    "forest.fit(x_train,y_train)"
   ]
  },
  {
   "cell_type": "code",
   "execution_count": 62,
   "id": "312dcad9",
   "metadata": {
    "papermill": {
     "duration": 2.02357,
     "end_time": "2024-07-07T14:57:03.477890",
     "exception": false,
     "start_time": "2024-07-07T14:57:01.454320",
     "status": "completed"
    },
    "tags": []
   },
   "outputs": [],
   "source": [
    "def illegal_transac(amount, model_prediction):\n",
    "    if amount > 200000:\n",
    "        return 1  # Fraud\n",
    "    else:\n",
    "        return model_prediction\n",
    "y_hat=[illegal_transac(amount, pred) for amount, pred in zip(x_test['amount'], forest.predict(x_test))]"
   ]
  },
  {
   "cell_type": "markdown",
   "id": "e84c0d77",
   "metadata": {
    "papermill": {
     "duration": 0.017731,
     "end_time": "2024-07-07T14:57:03.514220",
     "exception": false,
     "start_time": "2024-07-07T14:57:03.496489",
     "status": "completed"
    },
    "tags": []
   },
   "source": [
    "# Evaluating the performance of Random Forests classifier"
   ]
  },
  {
   "cell_type": "code",
   "execution_count": 70,
   "id": "c4d4e0b8-81bf-4832-a439-d0ff1104e694",
   "metadata": {},
   "outputs": [],
   "source": [
    "from sklearn.metrics import accuracy_score\n",
    "from sklearn.metrics import confusion_matrix, ConfusionMatrixDisplay"
   ]
  },
  {
   "cell_type": "code",
   "execution_count": 69,
   "id": "11d47939-3e27-477e-96a9-7f2193b0aa65",
   "metadata": {},
   "outputs": [
    {
     "data": {
      "text/plain": [
       "0.9996644464072976"
      ]
     },
     "execution_count": 69,
     "metadata": {},
     "output_type": "execute_result"
    }
   ],
   "source": [
    "accuracy = accuracy_score(y_test, y_hat)\n",
    "accuracy"
   ]
  },
  {
   "cell_type": "markdown",
   "id": "9e75366f",
   "metadata": {
    "papermill": {
     "duration": 0.018135,
     "end_time": "2024-07-07T14:57:05.366846",
     "exception": false,
     "start_time": "2024-07-07T14:57:05.348711",
     "status": "completed"
    },
    "tags": []
   },
   "source": [
    "**Confusion matrix**"
   ]
  },
  {
   "cell_type": "code",
   "execution_count": 79,
   "id": "d31e538c",
   "metadata": {
    "papermill": {
     "duration": 0.768702,
     "end_time": "2024-07-07T14:57:06.153432",
     "exception": false,
     "start_time": "2024-07-07T14:57:05.384730",
     "status": "completed"
    },
    "tags": []
   },
   "outputs": [
    {
     "data": {
      "image/png": "[encoded data removed]",
      "text/plain": [
       "<Figure size 700x600 with 2 Axes>"
      ]
     },
     "metadata": {},
     "output_type": "display_data"
    }
   ],
   "source": [
    "con_mat=confusion_matrix(y_test, y_hat)\n",
    "class_names = 'NP'\n",
    "plt.figure(figsize=(7,6))\n",
    "sns.heatmap(con_mat, annot=True, fmt=\"d\", cmap=\"Blues\", xticklabels=class_names, yticklabels=class_names)\n",
    "plt.xlabel(\"Predicted\")\n",
    "plt.ylabel(\"Actual\")\n",
    "plt.title(\"Confusion Matrix\")\n",
    "plt.show()"
   ]
  },
  {
   "cell_type": "code",
   "execution_count": 77,
   "id": "96a7ed46",
   "metadata": {
    "papermill": {
     "duration": 1.79654,
     "end_time": "2024-07-07T14:57:05.328511",
     "exception": false,
     "start_time": "2024-07-07T14:57:03.531971",
     "status": "completed"
    },
    "tags": []
   },
   "outputs": [
    {
     "name": "stdout",
     "output_type": "stream",
     "text": [
      "              precision    recall  f1-score   support\n",
      "\n",
      "           0       1.00      1.00      1.00    936581\n",
      "           1       1.00      1.00      1.00    335943\n",
      "\n",
      "    accuracy                           1.00   1272524\n",
      "   macro avg       1.00      1.00      1.00   1272524\n",
      "weighted avg       1.00      1.00      1.00   1272524\n",
      "\n"
     ]
    }
   ],
   "source": [
    "print(classification_report(y_test, y_hat))"
   ]
  },
  {
   "cell_type": "code",
   "execution_count": 98,
   "id": "f23499ae",
   "metadata": {
    "papermill": {
     "duration": 1.336275,
     "end_time": "2024-07-07T14:57:07.508609",
     "exception": false,
     "start_time": "2024-07-07T14:57:06.172334",
     "status": "completed"
    },
    "tags": []
   },
   "outputs": [],
   "source": [
    "y_probs = forest.predict_proba(x_test)[:, 1]  # Probability estimates for the positive class"
   ]
  },
  {
   "cell_type": "markdown",
   "id": "96c6a88d",
   "metadata": {
    "papermill": {
     "duration": 0.01837,
     "end_time": "2024-07-07T14:57:07.546444",
     "exception": false,
     "start_time": "2024-07-07T14:57:07.528074",
     "status": "completed"
    },
    "tags": []
   },
   "source": [
    "**ROC AUC curve**"
   ]
  },
  {
   "cell_type": "code",
   "execution_count": 96,
   "id": "8e95f6b9",
   "metadata": {
    "papermill": {
     "duration": 0.027312,
     "end_time": "2024-07-07T14:57:07.592130",
     "exception": false,
     "start_time": "2024-07-07T14:57:07.564818",
     "status": "completed"
    },
    "tags": []
   },
   "outputs": [],
   "source": [
    "def roc_auc_curve(Y_test,Y_prob):\n",
    "    fpr, tpr, thresholds = roc_curve(Y_test, Y_prob)\n",
    "    roc_auc = roc_auc_score(Y_test, Y_prob)\n",
    "    plt.figure()\n",
    "    plt.plot(fpr, tpr, label='Isolation Forest (AUC = {:.2f})'.format(roc_auc))\n",
    "    plt.plot([0, 1], [0, 1], 'k--', label='Random Classifier')\n",
    "    plt.xlabel('False Positive Rate')\n",
    "    plt.ylabel('True Positive Rate')\n",
    "    plt.title('ROC Curve')\n",
    "    plt.legend()\n",
    "    plt.show()"
   ]
  },
  {
   "cell_type": "code",
   "execution_count": 97,
   "id": "7ce61801",
   "metadata": {
    "papermill": {
     "duration": 0.48722,
     "end_time": "2024-07-07T14:57:08.097900",
     "exception": false,
     "start_time": "2024-07-07T14:57:07.610680",
     "status": "completed"
    },
    "tags": []
   },
   "outputs": [
    {
     "data": {
      "image/png": "[encoded data removed]",
      "text/plain": [
       "<Figure size 640x480 with 1 Axes>"
      ]
     },
     "metadata": {},
     "output_type": "display_data"
    }
   ],
   "source": [
    "roc_auc_curve(y_test,y_probs)"
   ]
  },
  {
   "cell_type": "markdown",
   "id": "472baf2d",
   "metadata": {
    "papermill": {
     "duration": 0.01926,
     "end_time": "2024-07-07T14:57:08.137088",
     "exception": false,
     "start_time": "2024-07-07T14:57:08.117828",
     "status": "completed"
    },
    "tags": []
   },
   "source": [
    "# YAY!! our model is performing perfectly on our validation data🎊🥳"
   ]
  },
  {
   "cell_type": "code",
   "execution_count": 85,
   "id": "18a6ce3b-2084-4160-a09b-025c3289a620",
   "metadata": {},
   "outputs": [
    {
     "name": "stderr",
     "output_type": "stream",
     "text": [
      "[nltk_data] Downloading package punkt to\n",
      "[nltk_data]     C:\\Users\\Mostafa\\AppData\\Roaming\\nltk_data...\n",
      "[nltk_data]   Package punkt is already up-to-date!\n",
      "[nltk_data] Downloading package stopwords to\n",
      "[nltk_data]     C:\\Users\\Mostafa\\AppData\\Roaming\\nltk_data...\n",
      "[nltk_data]   Package stopwords is already up-to-date!\n"
     ]
    },
    {
     "data": {
      "text/html": [
       "<div>\n",
       "<style scoped>\n",
       "    .dataframe tbody tr th:only-of-type {\n",
       "        vertical-align: middle;\n",
       "    }\n",
       "\n",
       "    .dataframe tbody tr th {\n",
       "        vertical-align: top;\n",
       "    }\n",
       "\n",
       "    .dataframe thead th {\n",
       "        text-align: right;\n",
       "    }\n",
       "</style>\n",
       "<table border=\"1\" class=\"dataframe\">\n",
       "  <thead>\n",
       "    <tr style=\"text-align: right;\">\n",
       "      <th></th>\n",
       "      <th>type</th>\n",
       "      <th>amount</th>\n",
       "      <th>isFraud</th>\n",
       "      <th>payerdebited</th>\n",
       "      <th>recievercredited</th>\n",
       "      <th>reciever_type</th>\n",
       "      <th>hour</th>\n",
       "      <th>day_of_week</th>\n",
       "      <th>date</th>\n",
       "      <th>processed_description</th>\n",
       "      <th>debit</th>\n",
       "      <th>payment</th>\n",
       "      <th>transfer</th>\n",
       "      <th>debit</th>\n",
       "      <th>payment</th>\n",
       "      <th>transfer</th>\n",
       "    </tr>\n",
       "  </thead>\n",
       "  <tbody>\n",
       "    <tr>\n",
       "      <th>0</th>\n",
       "      <td>PAYMENT</td>\n",
       "      <td>9839.64</td>\n",
       "      <td>0</td>\n",
       "      <td>9839.64</td>\n",
       "      <td>0.0</td>\n",
       "      <td>M</td>\n",
       "      <td>1</td>\n",
       "      <td>6</td>\n",
       "      <td>1</td>\n",
       "      <td>payment</td>\n",
       "      <td>0.0</td>\n",
       "      <td>1.0</td>\n",
       "      <td>0.0</td>\n",
       "      <td>0.0</td>\n",
       "      <td>1.0</td>\n",
       "      <td>0.0</td>\n",
       "    </tr>\n",
       "    <tr>\n",
       "      <th>1</th>\n",
       "      <td>PAYMENT</td>\n",
       "      <td>1864.28</td>\n",
       "      <td>0</td>\n",
       "      <td>1864.28</td>\n",
       "      <td>0.0</td>\n",
       "      <td>M</td>\n",
       "      <td>1</td>\n",
       "      <td>6</td>\n",
       "      <td>1</td>\n",
       "      <td>payment</td>\n",
       "      <td>0.0</td>\n",
       "      <td>1.0</td>\n",
       "      <td>0.0</td>\n",
       "      <td>0.0</td>\n",
       "      <td>1.0</td>\n",
       "      <td>0.0</td>\n",
       "    </tr>\n",
       "    <tr>\n",
       "      <th>2</th>\n",
       "      <td>TRANSFER</td>\n",
       "      <td>181.00</td>\n",
       "      <td>1</td>\n",
       "      <td>181.00</td>\n",
       "      <td>0.0</td>\n",
       "      <td>C</td>\n",
       "      <td>1</td>\n",
       "      <td>6</td>\n",
       "      <td>1</td>\n",
       "      <td>transfer</td>\n",
       "      <td>0.0</td>\n",
       "      <td>0.0</td>\n",
       "      <td>1.0</td>\n",
       "      <td>0.0</td>\n",
       "      <td>0.0</td>\n",
       "      <td>1.0</td>\n",
       "    </tr>\n",
       "    <tr>\n",
       "      <th>3</th>\n",
       "      <td>CASH_OUT</td>\n",
       "      <td>181.00</td>\n",
       "      <td>1</td>\n",
       "      <td>181.00</td>\n",
       "      <td>-21182.0</td>\n",
       "      <td>C</td>\n",
       "      <td>1</td>\n",
       "      <td>6</td>\n",
       "      <td>1</td>\n",
       "      <td></td>\n",
       "      <td>0.0</td>\n",
       "      <td>0.0</td>\n",
       "      <td>0.0</td>\n",
       "      <td>0.0</td>\n",
       "      <td>0.0</td>\n",
       "      <td>0.0</td>\n",
       "    </tr>\n",
       "    <tr>\n",
       "      <th>4</th>\n",
       "      <td>PAYMENT</td>\n",
       "      <td>11668.14</td>\n",
       "      <td>0</td>\n",
       "      <td>11668.14</td>\n",
       "      <td>0.0</td>\n",
       "      <td>M</td>\n",
       "      <td>1</td>\n",
       "      <td>6</td>\n",
       "      <td>1</td>\n",
       "      <td>payment</td>\n",
       "      <td>0.0</td>\n",
       "      <td>1.0</td>\n",
       "      <td>0.0</td>\n",
       "      <td>0.0</td>\n",
       "      <td>1.0</td>\n",
       "      <td>0.0</td>\n",
       "    </tr>\n",
       "  </tbody>\n",
       "</table>\n",
       "</div>"
      ],
      "text/plain": [
       "       type    amount  isFraud  payerdebited  recievercredited reciever_type  \\\n",
       "0   PAYMENT   9839.64        0       9839.64               0.0             M   \n",
       "1   PAYMENT   1864.28        0       1864.28               0.0             M   \n",
       "2  TRANSFER    181.00        1        181.00               0.0             C   \n",
       "3  CASH_OUT    181.00        1        181.00          -21182.0             C   \n",
       "4   PAYMENT  11668.14        0      11668.14               0.0             M   \n",
       "\n",
       "   hour  day_of_week  date processed_description  debit  payment  transfer  \\\n",
       "0     1            6     1               payment    0.0      1.0       0.0   \n",
       "1     1            6     1               payment    0.0      1.0       0.0   \n",
       "2     1            6     1              transfer    0.0      0.0       1.0   \n",
       "3     1            6     1                          0.0      0.0       0.0   \n",
       "4     1            6     1               payment    0.0      1.0       0.0   \n",
       "\n",
       "   debit  payment  transfer  \n",
       "0    0.0      1.0       0.0  \n",
       "1    0.0      1.0       0.0  \n",
       "2    0.0      0.0       1.0  \n",
       "3    0.0      0.0       0.0  \n",
       "4    0.0      1.0       0.0  "
      ]
     },
     "execution_count": 85,
     "metadata": {},
     "output_type": "execute_result"
    }
   ],
   "source": [
    "import nltk\n",
    "nltk.download('punkt')\n",
    "nltk.download('stopwords')\n",
    "from nltk.corpus import stopwords\n",
    "from nltk.tokenize import word_tokenize\n",
    "\n",
    "# Assuming 'df' is your DataFrame and 'description' is the column with transaction descriptions\n",
    "# Example:\n",
    "# df['description'] = [\"Payment for groceries\", \"Withdrawal from ATM\", \"Online shopping at Amazon\"]\n",
    "\n",
    "stop_words = set(stopwords.words('english'))\n",
    "\n",
    "def preprocess_text(text):\n",
    "    words = word_tokenize(text.lower())\n",
    "    words = [w for w in words if w.isalnum() and w not in stop_words]\n",
    "    return \" \".join(words)\n",
    "\n",
    "\n",
    "df['processed_description'] = df['type'].apply(preprocess_text)\n",
    "\n",
    "\n",
    "from sklearn.feature_extraction.text import TfidfVectorizer\n",
    "\n",
    "vectorizer = TfidfVectorizer()\n",
    "tfidf_matrix = vectorizer.fit_transform(df['processed_description'])\n",
    "\n",
    "# Convert the TF-IDF matrix to a DataFrame (optional)\n",
    "tfidf_df = pd.DataFrame(tfidf_matrix.toarray(), columns=vectorizer.get_feature_names_out())\n",
    "\n",
    "# Concatenate the TF-IDF features with the original DataFrame\n",
    "df = pd.concat([df, tfidf_df], axis=1)\n",
    "\n",
    "# Now you can use the TF-IDF features in your model\n",
    "df.head()"
   ]
  },
  {
   "cell_type": "code",
   "execution_count": null,
   "id": "5cd4ccaf-769a-4d1a-95b3-625401bc2519",
   "metadata": {},
   "outputs": [],
   "source": [
    "import pandas as pd\n",
    "import numpy as np\n",
    "from sklearn.preprocessing import StandardScaler\n",
    "import tensorflow as tf\n",
    "from tensorflow.keras.models import Sequential\n",
    "from tensorflow.keras.layers import Dense, LeakyReLU\n",
    "from tensorflow.keras.optimizers import Adam\n",
    "import mlflow\n",
    "\n",
    "# Load and preprocess your data\n",
    "# df = pd.read_csv('your_data.csv')  # Replace with your actual data loading code\n",
    "\n",
    "# Select relevant numerical features for GAN training\n",
    "numerical_features = ['amount', 'hour', 'day_of_week', 'date', 'payerdebited']\n",
    "X = df[numerical_features]\n",
    "\n",
    "# Scale the data\n",
    "scaler = StandardScaler()\n",
    "X_scaled = scaler.fit_transform(X)\n",
    "\n",
    "# GAN parameters\n",
    "latent_dim = 100  # Dimensionality of the latent space\n",
    "epochs = 500  # Adjust this as needed\n",
    "batch_size = 128\n",
    "\n",
    "# Generator model\n",
    "generator = Sequential([\n",
    "    Dense(128, input_dim=latent_dim),\n",
    "    LeakyReLU(alpha=0.2),\n",
    "    Dense(256),\n",
    "    LeakyReLU(alpha=0.2),\n",
    "    Dense(len(numerical_features), activation='tanh')\n",
    "])\n",
    "\n",
    "# Discriminator model\n",
    "discriminator = Sequential([\n",
    "    Dense(256, input_dim=len(numerical_features)),\n",
    "    LeakyReLU(alpha=0.2),\n",
    "    Dense(128),\n",
    "    LeakyReLU(alpha=0.2),\n",
    "    Dense(1, activation='sigmoid')\n",
    "])\n",
    "\n",
    "# Compile the discriminator\n",
    "discriminator.compile(loss='binary_crossentropy', optimizer=Adam(0.0002, 0.5), metrics=['accuracy'])\n",
    "discriminator.trainable = False  # Freeze discriminator during GAN training\n",
    "\n",
    "# Combined GAN model\n",
    "gan = Sequential([generator, discriminator])\n",
    "gan.compile(loss='binary_crossentropy', optimizer=Adam(0.0002, 0.5))\n",
    "\n",
    "# Training the GAN\n",
    "with mlflow.start_run():\n",
    "    for epoch in range(epochs):\n",
    "        # Generate random noise\n",
    "        noise = np.random.normal(0, 1, (batch_size, latent_dim))\n",
    "\n",
    "        # Generate synthetic transactions\n",
    "        synthetic_transactions = generator.predict(noise)\n",
    "\n",
    "        # Train discriminator\n",
    "        real_transactions = X_scaled[np.random.randint(0, X_scaled.shape[0], batch_size)]\n",
    "        labels_real = np.ones((batch_size, 1))\n",
    "        labels_fake = np.zeros((batch_size, 1))\n",
    "\n",
    "        d_loss_real = discriminator.train_on_batch(real_transactions, labels_real)\n",
    "        d_loss_fake = discriminator.train_on_batch(synthetic_transactions, labels_fake)\n",
    "        d_loss = 0.5 * np.add(d_loss_real, d_loss_fake)\n",
    "\n",
    "        # Train generator\n",
    "        noise = np.random.normal(0, 1, (batch_size, latent_dim))\n",
    "        labels_gan = np.ones((batch_size, 1))  # Want generator to fool the discriminator\n",
    "        g_loss = gan.train_on_batch(noise, labels_gan)\n",
    "\n",
    "        # Log metrics to MLflow\n",
    "        mlflow.log_metric(\"d_loss\", d_loss[0], step=epoch)\n",
    "        mlflow.log_metric(\"d_accuracy\", d_loss[1], step=epoch)\n",
    "        mlflow.log_metric(\"g_loss\", g_loss, step=epoch)\n",
    "\n",
    "        if epoch % 100 == 0:\n",
    "            print(f\"Epoch {epoch}, D Loss: {d_loss[0]}, D Accuracy: {d_loss[1]}, G Loss: {g_loss}\")\n",
    "\n",
    "    # Generate synthetic data for validation\n",
    "    num_synthetic_samples = 1000\n",
    "    noise = np.random.normal(0, 1, (num_synthetic_samples, latent_dim))\n",
    "    synthetic_data = generator.predict(noise)\n",
    "    synthetic_data = scaler.inverse_transform(synthetic_data)  # Inverse scaling\n",
    "\n",
    "    # Log the synthetic data as an artifact\n",
    "    synthetic_df = pd.DataFrame(synthetic_data, columns=numerical_features)\n",
    "    synthetic_df.to_csv(\"synthetic_fraud_data.csv\", index=False)\n",
    "    mlflow.log_artifact(\"synthetic_fraud_data.csv\")\n",
    "\n",
    "    print(\"Synthetic data generated and saved.\")"
   ]
  }
 ],
 "metadata": {
  "kaggle": {
   "accelerator": "none",
   "dataSources": [
    {
     "datasetId": 1964310,
     "sourceId": 3240868,
     "sourceType": "datasetVersion"
    }
   ],
   "dockerImageVersionId": 30734,
   "isGpuEnabled": false,
   "isInternetEnabled": true,
   "language": "python",
   "sourceType": "notebook"
  },
  "kernelspec": {
   "display_name": "Python 3 (ipykernel)",
   "language": "python",
   "name": "python3"
  },
  "language_info": {
   "codemirror_mode": {
    "name": "ipython",
    "version": 3
   },
   "file_extension": ".py",
   "mimetype": "text/x-python",
   "name": "python",
   "nbconvert_exporter": "python",
   "pygments_lexer": "ipython3",
   "version": "3.12.4"
  },
  "papermill": {
   "default_parameters": {},
   "duration": 740.152452,
   "end_time": "2024-07-07T14:57:09.077838",
   "environment_variables": {},
   "exception": null,
   "input_path": "__notebook__.ipynb",
   "output_path": "__notebook__.ipynb",
   "parameters": {},
   "start_time": "2024-07-07T14:44:48.925386",
   "version": "2.5.0"
  }
 },
 "nbformat": 4,
 "nbformat_minor": 5
}
